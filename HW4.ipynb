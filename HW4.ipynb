{
 "cells": [
  {
   "cell_type": "markdown",
   "metadata": {},
   "source": [
    "## Домашнее задание «Рекомендации на основе скрытых факторов»"
   ]
  },
  {
   "cell_type": "markdown",
   "metadata": {},
   "source": [
    "Требуется построить модель рекомендаций на основе скрытых факторов (implicit) на основе dataset’а https://grouplens.org/datasets/hetrec-2011/ (Delicious Bookmarks)"
   ]
  },
  {
   "cell_type": "code",
   "execution_count": 75,
   "metadata": {},
   "outputs": [],
   "source": [
    "import pandas as pd\n",
    "import numpy as np\n",
    "from tqdm import tqdm_notebook\n",
    "\n",
    "import scipy.sparse as sparse\n",
    "\n",
    "%matplotlib inline\n",
    "\n",
    "from implicit.als import AlternatingLeastSquares"
   ]
  },
  {
   "cell_type": "code",
   "execution_count": 116,
   "metadata": {
    "scrolled": true
   },
   "outputs": [],
   "source": [
    "bookmarks = pd.read_csv('bookmarks.dat',sep='\\t', encoding = \"ISO-8859-1\",usecols=['id','title','url'])\n",
    "user_bookmark = pd.read_csv('user_taggedbookmarks.dat',sep='\\t', encoding = \"ISO-8859-1\",usecols=['userID' ,'bookmarkID'])"
   ]
  },
  {
   "cell_type": "code",
   "execution_count": 117,
   "metadata": {},
   "outputs": [
    {
     "data": {
      "text/html": [
       "<div>\n",
       "<style scoped>\n",
       "    .dataframe tbody tr th:only-of-type {\n",
       "        vertical-align: middle;\n",
       "    }\n",
       "\n",
       "    .dataframe tbody tr th {\n",
       "        vertical-align: top;\n",
       "    }\n",
       "\n",
       "    .dataframe thead th {\n",
       "        text-align: right;\n",
       "    }\n",
       "</style>\n",
       "<table border=\"1\" class=\"dataframe\">\n",
       "  <thead>\n",
       "    <tr style=\"text-align: right;\">\n",
       "      <th></th>\n",
       "      <th>id</th>\n",
       "      <th>title</th>\n",
       "      <th>url</th>\n",
       "    </tr>\n",
       "  </thead>\n",
       "  <tbody>\n",
       "    <tr>\n",
       "      <th>0</th>\n",
       "      <td>1</td>\n",
       "      <td>IFLA - The official website of the Internation...</td>\n",
       "      <td>http://www.ifla.org/</td>\n",
       "    </tr>\n",
       "    <tr>\n",
       "      <th>1</th>\n",
       "      <td>2</td>\n",
       "      <td>gcdp-e.pdf (application/pdf Object)</td>\n",
       "      <td>http://archive.ifla.org/VII/s14/nd1/gcdp-e.pdf</td>\n",
       "    </tr>\n",
       "    <tr>\n",
       "      <th>2</th>\n",
       "      <td>7</td>\n",
       "      <td>EdSelect</td>\n",
       "      <td>http://www.edselect.com/</td>\n",
       "    </tr>\n",
       "    <tr>\n",
       "      <th>3</th>\n",
       "      <td>8</td>\n",
       "      <td>Cool Canada (Collections Canada)</td>\n",
       "      <td>http://www.collectionscanada.gc.ca/cool/index-...</td>\n",
       "    </tr>\n",
       "    <tr>\n",
       "      <th>4</th>\n",
       "      <td>9</td>\n",
       "      <td>Kidsreads.com</td>\n",
       "      <td>http://www.kidsreads.com/</td>\n",
       "    </tr>\n",
       "  </tbody>\n",
       "</table>\n",
       "</div>"
      ],
      "text/plain": [
       "   id                                              title  \\\n",
       "0   1  IFLA - The official website of the Internation...   \n",
       "1   2                gcdp-e.pdf (application/pdf Object)   \n",
       "2   7                                           EdSelect   \n",
       "3   8                   Cool Canada (Collections Canada)   \n",
       "4   9                                      Kidsreads.com   \n",
       "\n",
       "                                                 url  \n",
       "0                               http://www.ifla.org/  \n",
       "1     http://archive.ifla.org/VII/s14/nd1/gcdp-e.pdf  \n",
       "2                           http://www.edselect.com/  \n",
       "3  http://www.collectionscanada.gc.ca/cool/index-...  \n",
       "4                          http://www.kidsreads.com/  "
      ]
     },
     "execution_count": 117,
     "metadata": {},
     "output_type": "execute_result"
    }
   ],
   "source": [
    "bookmarks.head()"
   ]
  },
  {
   "cell_type": "code",
   "execution_count": 78,
   "metadata": {},
   "outputs": [
    {
     "data": {
      "text/html": [
       "<div>\n",
       "<style scoped>\n",
       "    .dataframe tbody tr th:only-of-type {\n",
       "        vertical-align: middle;\n",
       "    }\n",
       "\n",
       "    .dataframe tbody tr th {\n",
       "        vertical-align: top;\n",
       "    }\n",
       "\n",
       "    .dataframe thead th {\n",
       "        text-align: right;\n",
       "    }\n",
       "</style>\n",
       "<table border=\"1\" class=\"dataframe\">\n",
       "  <thead>\n",
       "    <tr style=\"text-align: right;\">\n",
       "      <th></th>\n",
       "      <th>userID</th>\n",
       "      <th>bookmarkID</th>\n",
       "    </tr>\n",
       "  </thead>\n",
       "  <tbody>\n",
       "    <tr>\n",
       "      <th>0</th>\n",
       "      <td>8</td>\n",
       "      <td>1</td>\n",
       "    </tr>\n",
       "    <tr>\n",
       "      <th>1</th>\n",
       "      <td>8</td>\n",
       "      <td>2</td>\n",
       "    </tr>\n",
       "    <tr>\n",
       "      <th>2</th>\n",
       "      <td>8</td>\n",
       "      <td>7</td>\n",
       "    </tr>\n",
       "    <tr>\n",
       "      <th>3</th>\n",
       "      <td>8</td>\n",
       "      <td>7</td>\n",
       "    </tr>\n",
       "    <tr>\n",
       "      <th>4</th>\n",
       "      <td>8</td>\n",
       "      <td>7</td>\n",
       "    </tr>\n",
       "  </tbody>\n",
       "</table>\n",
       "</div>"
      ],
      "text/plain": [
       "   userID  bookmarkID\n",
       "0       8           1\n",
       "1       8           2\n",
       "2       8           7\n",
       "3       8           7\n",
       "4       8           7"
      ]
     },
     "execution_count": 78,
     "metadata": {},
     "output_type": "execute_result"
    }
   ],
   "source": [
    "user_bookmark.head()"
   ]
  },
  {
   "cell_type": "code",
   "execution_count": 79,
   "metadata": {},
   "outputs": [
    {
     "name": "stdout",
     "output_type": "stream",
     "text": [
      "user with bookmark count = 437593,bookmark = 69226\n"
     ]
    }
   ],
   "source": [
    "print(\"user with bookmark count = {},bookmark = {}\".format(user_bookmark.shape[0],bookmarks.shape[0]))"
   ]
  },
  {
   "cell_type": "code",
   "execution_count": 144,
   "metadata": {},
   "outputs": [],
   "source": [
    "user_bookmark.drop_duplicates(inplace=True)"
   ]
  },
  {
   "cell_type": "code",
   "execution_count": 145,
   "metadata": {},
   "outputs": [],
   "source": [
    "user_bookmark['user_id'] = user_bookmark['userID'].astype(\"category\").cat.codes\n",
    "user_bookmark['bookmark_id'] = user_bookmark['bookmarkID'].astype(\"category\").cat.codes"
   ]
  },
  {
   "cell_type": "code",
   "execution_count": 139,
   "metadata": {},
   "outputs": [
    {
     "data": {
      "text/html": [
       "<div>\n",
       "<style scoped>\n",
       "    .dataframe tbody tr th:only-of-type {\n",
       "        vertical-align: middle;\n",
       "    }\n",
       "\n",
       "    .dataframe tbody tr th {\n",
       "        vertical-align: top;\n",
       "    }\n",
       "\n",
       "    .dataframe thead th {\n",
       "        text-align: right;\n",
       "    }\n",
       "</style>\n",
       "<table border=\"1\" class=\"dataframe\">\n",
       "  <thead>\n",
       "    <tr style=\"text-align: right;\">\n",
       "      <th></th>\n",
       "      <th>userID</th>\n",
       "      <th>bookmarkID</th>\n",
       "      <th>user_id</th>\n",
       "      <th>bookmark_id</th>\n",
       "    </tr>\n",
       "  </thead>\n",
       "  <tbody>\n",
       "    <tr>\n",
       "      <th>0</th>\n",
       "      <td>8</td>\n",
       "      <td>1</td>\n",
       "      <td>0</td>\n",
       "      <td>0</td>\n",
       "    </tr>\n",
       "    <tr>\n",
       "      <th>1</th>\n",
       "      <td>8</td>\n",
       "      <td>2</td>\n",
       "      <td>0</td>\n",
       "      <td>1</td>\n",
       "    </tr>\n",
       "    <tr>\n",
       "      <th>2</th>\n",
       "      <td>8</td>\n",
       "      <td>7</td>\n",
       "      <td>0</td>\n",
       "      <td>2</td>\n",
       "    </tr>\n",
       "    <tr>\n",
       "      <th>3</th>\n",
       "      <td>8</td>\n",
       "      <td>7</td>\n",
       "      <td>0</td>\n",
       "      <td>2</td>\n",
       "    </tr>\n",
       "    <tr>\n",
       "      <th>4</th>\n",
       "      <td>8</td>\n",
       "      <td>7</td>\n",
       "      <td>0</td>\n",
       "      <td>2</td>\n",
       "    </tr>\n",
       "  </tbody>\n",
       "</table>\n",
       "</div>"
      ],
      "text/plain": [
       "   userID  bookmarkID  user_id  bookmark_id\n",
       "0       8           1        0            0\n",
       "1       8           2        0            1\n",
       "2       8           7        0            2\n",
       "3       8           7        0            2\n",
       "4       8           7        0            2"
      ]
     },
     "execution_count": 139,
     "metadata": {},
     "output_type": "execute_result"
    }
   ],
   "source": [
    "user_bookmark.head()"
   ]
  },
  {
   "cell_type": "code",
   "execution_count": 84,
   "metadata": {},
   "outputs": [],
   "source": [
    "data = user_bookmark [['user_id','bookmark_id']]"
   ]
  },
  {
   "cell_type": "code",
   "execution_count": 86,
   "metadata": {},
   "outputs": [],
   "source": [
    "index_lookup = user_bookmark[[\"bookmarkID\",\"bookmark_id\"]].drop_duplicates();"
   ]
  },
  {
   "cell_type": "code",
   "execution_count": 122,
   "metadata": {},
   "outputs": [
    {
     "data": {
      "application/vnd.jupyter.widget-view+json": {
       "model_id": "a42e0dc9da104276982441e88df49677",
       "version_major": 2,
       "version_minor": 0
      },
      "text/plain": [
       "HBox(children=(IntProgress(value=1, bar_style='info', max=1), HTML(value='')))"
      ]
     },
     "metadata": {},
     "output_type": "display_data"
    },
    {
     "name": "stdout",
     "output_type": "stream",
     "text": [
      "\n"
     ]
    }
   ],
   "source": [
    "bookmark_dict = {}\n",
    "\n",
    "for index, row in tqdm_notebook(index_lookup.iterrows()):\n",
    "    bookmark_dict[row.bookmark_id]=bookmarks[bookmarks.id==row.bookmarkID].url"
   ]
  },
  {
   "cell_type": "code",
   "execution_count": 90,
   "metadata": {},
   "outputs": [],
   "source": [
    "users_list = list(np.sort(data.user_id.unique()))\n",
    "bookmark_list = list(np.sort(data.bookmark_id.unique()))\n",
    "flag = [1 for i in range(data.shape[0])]"
   ]
  },
  {
   "cell_type": "code",
   "execution_count": 92,
   "metadata": {},
   "outputs": [],
   "source": [
    "rows = data.user_id.astype(int)\n",
    "cols = data.bookmark_id.astype(int)"
   ]
  },
  {
   "cell_type": "code",
   "execution_count": 93,
   "metadata": {},
   "outputs": [],
   "source": [
    "data_sparse = sparse.csr_matrix((flag, (cols, rows)), shape=(len(bookmark_list), len(users_list)))"
   ]
  },
  {
   "cell_type": "code",
   "execution_count": 94,
   "metadata": {},
   "outputs": [
    {
     "name": "stderr",
     "output_type": "stream",
     "text": [
      "100%|██████████| 15.0/15 [00:07<00:00,  2.28it/s]\n"
     ]
    }
   ],
   "source": [
    "model = AlternatingLeastSquares(factors=50)\n",
    "model.fit(data_sparse)"
   ]
  },
  {
   "cell_type": "code",
   "execution_count": 153,
   "metadata": {},
   "outputs": [],
   "source": [
    "userid = 3\n",
    "\n",
    "user_items = data_sparse.T.tocsr()\n",
    "recommendations = model.recommend(userid, user_items)"
   ]
  },
  {
   "cell_type": "code",
   "execution_count": 154,
   "metadata": {},
   "outputs": [
    {
     "data": {
      "text/plain": [
       "[(192, 0.40453607),\n",
       " (232, 0.36716503),\n",
       " (219, 0.35856515),\n",
       " (221, 0.3578941),\n",
       " (223, 0.3481099),\n",
       " (206, 0.34804004),\n",
       " (217, 0.34659103),\n",
       " (193, 0.3450229),\n",
       " (205, 0.34449822),\n",
       " (229, 0.3407296)]"
      ]
     },
     "execution_count": 154,
     "metadata": {},
     "output_type": "execute_result"
    }
   ],
   "source": [
    "recommendations"
   ]
  },
  {
   "cell_type": "markdown",
   "metadata": {},
   "source": [
    "## Source:"
   ]
  },
  {
   "cell_type": "code",
   "execution_count": 155,
   "metadata": {},
   "outputs": [],
   "source": [
    "source = user_bookmark[user_bookmark.user_id==3].bookmark_id.tolist()"
   ]
  },
  {
   "cell_type": "code",
   "execution_count": 156,
   "metadata": {},
   "outputs": [
    {
     "name": "stdout",
     "output_type": "stream",
     "text": [
      "116    http://bridgeurl.com/\n",
      "Name: url, dtype: object\n",
      "117    http://mashable.com/2010/11/07/new-social-medi...\n",
      "Name: url, dtype: object\n",
      "118    http://www.connectsafely.org/Safety-Advice-Art...\n",
      "Name: url, dtype: object\n",
      "119    http://www.mathopenref.com/tocs/constructionst...\n",
      "Name: url, dtype: object\n",
      "120    http://clifmims.wetpaint.com/page/Modules\n",
      "Name: url, dtype: object\n",
      "121    http://technology4kids.pbworks.com/w/page/2429...\n",
      "Name: url, dtype: object\n",
      "122    http://data.un.org/\n",
      "Name: url, dtype: object\n",
      "123    http://voices.washingtonpost.com/answer-sheet/...\n",
      "Name: url, dtype: object\n",
      "124    http://1toolatatime.wikispaces.com/QR Codes\n",
      "Name: url, dtype: object\n",
      "125    http://www.webexhibits.org/daylightsaving/inde...\n",
      "Name: url, dtype: object\n",
      "126    http://www.nytimes.com/2010/11/08/technology/0...\n",
      "Name: url, dtype: object\n",
      "127    http://lisadawley.wordpress.com/2010/11/06/pro...\n",
      "Name: url, dtype: object\n",
      "128    http://news.wfu.edu/2010/11/07/ipad-more-than-...\n",
      "Name: url, dtype: object\n",
      "129    http://web.appstorm.net/roundups/data-manageme...\n",
      "Name: url, dtype: object\n",
      "130    http://www.techsupportalert.com/top-5-video-st...\n",
      "Name: url, dtype: object\n",
      "131    http://executivesguide-twitter.com/?page_id=302\n",
      "Name: url, dtype: object\n",
      "132    http://smartboardgoodies.com/2010/11/05/factdash\n",
      "Name: url, dtype: object\n",
      "133    http://www.mrkeenan.com/?p=925\n",
      "Name: url, dtype: object\n",
      "134    http://wylio.com/\n",
      "Name: url, dtype: object\n",
      "135    http://www.zdnet.com/blog/education/teachers-p...\n",
      "Name: url, dtype: object\n",
      "136    http://www.dailywritingtips.com/poetry-rhythm-...\n",
      "Name: url, dtype: object\n",
      "137    http://mashable.com/2010/11/04/launch-internet...\n",
      "Name: url, dtype: object\n",
      "138    http://teacherbootcamp.edublogs.org/2010/11/02...\n",
      "Name: url, dtype: object\n",
      "139    http://blogs.forbes.com/parmyolson/2010/11/04/...\n",
      "Name: url, dtype: object\n",
      "140    http://itunes.apple.com/us/app/textplus-free-t...\n",
      "Name: url, dtype: object\n",
      "141    http://www.edweek.org/tsb/articles/2010/10/12/...\n",
      "Name: url, dtype: object\n",
      "142    http://www.delicious.com/tonyvincent/research ...\n",
      "Name: url, dtype: object\n",
      "143    http://www.myhaikuclass.com/julener/ipads/cms_...\n",
      "Name: url, dtype: object\n",
      "144    http://www.bachelorsdegreeonline.com/blog/2009...\n",
      "Name: url, dtype: object\n",
      "145    http://anatomycorner.com/\n",
      "Name: url, dtype: object\n",
      "146    http://androidforacademics.com/\n",
      "Name: url, dtype: object\n",
      "147    http://www.nationalmathtrail.org/\n",
      "Name: url, dtype: object\n",
      "148    http://theinteractiveplace.pbworks.com/\n",
      "Name: url, dtype: object\n",
      "149    http://www.100topmap.com/\n",
      "Name: url, dtype: object\n",
      "150    http://blog.simplek12.com/education/video-how-...\n",
      "Name: url, dtype: object\n",
      "151    http://ipadworkshop.wikispaces.com/\n",
      "Name: url, dtype: object\n",
      "152    http://digitalis.nwp.org/\n",
      "Name: url, dtype: object\n",
      "153    http://livebinders.com/play/play_or_edit?id=1619\n",
      "Name: url, dtype: object\n",
      "154    http://www.ted.com/talks/lang/eng/joachim_de_p...\n",
      "Name: url, dtype: object\n",
      "155    http://bits.blogs.nytimes.com/2010/11/01/8pen-...\n",
      "Name: url, dtype: object\n",
      "156    http://www.convergemag.com/policy/The-7-Elemen...\n",
      "Name: url, dtype: object\n",
      "157    http://changingminds.org/techniques/questionin...\n",
      "Name: url, dtype: object\n",
      "158    http://www.technobuzz.net/free-ipad-apps\n",
      "Name: url, dtype: object\n",
      "159    http://www.freetech4teachers.com/2010/10/best-...\n",
      "Name: url, dtype: object\n",
      "160    http://www.youtube.com/watch?v=NugRZGDbPFU\n",
      "Name: url, dtype: object\n",
      "161    http://www.cellular-news.com/story/46172.php\n",
      "Name: url, dtype: object\n",
      "162    http://us.moo.com/\n",
      "Name: url, dtype: object\n",
      "163    http://www.techlearning.com/blogs/34018\n",
      "Name: url, dtype: object\n",
      "164    http://www.genderlinks.org.za/\n",
      "Name: url, dtype: object\n",
      "165    http://www.dailytodo.org/\n",
      "Name: url, dtype: object\n",
      "166    http://dice.miniwebapps.net/\n",
      "Name: url, dtype: object\n",
      "167    http://www.flowofhistory.com/\n",
      "Name: url, dtype: object\n",
      "168    http://www.khaninstant.com/\n",
      "Name: url, dtype: object\n",
      "169    http://amby.com/educate/math.html\n",
      "Name: url, dtype: object\n",
      "170    http://www.changingshape.com/exercise/musclech...\n",
      "Name: url, dtype: object\n",
      "171    http://primaxstudio.com/stuff/scale_of_universe\n",
      "Name: url, dtype: object\n",
      "172    http://www.c4lpt.co.uk/Showcase/100langlearnin...\n",
      "Name: url, dtype: object\n",
      "173    http://10000words.net/2010/10/common-copyright...\n",
      "Name: url, dtype: object\n",
      "174    http://jeffthomastech.com/blog/?p=6887\n",
      "Name: url, dtype: object\n",
      "175    http://www.speedofcreativity.org/2010/10/26/id...\n",
      "Name: url, dtype: object\n",
      "176    http://www.uiowa.edu/~commstud/resources/Gende...\n",
      "Name: url, dtype: object\n",
      "177    http://www.aber.ac.uk/media/Modules/TF33120/ge...\n",
      "Name: url, dtype: object\n",
      "178    http://www.rsingh.net/gender\n",
      "Name: url, dtype: object\n",
      "179    http://www.media-awareness.ca/english/resource...\n",
      "Name: url, dtype: object\n",
      "180    http://www.cybraryman.com/environment.html\n",
      "Name: url, dtype: object\n",
      "181    http://www.cybraryman.com/canada.html\n",
      "Name: url, dtype: object\n",
      "182    http://labs.artandmobile.com/tiltshift\n",
      "Name: url, dtype: object\n",
      "183    http://alternativeto.net/software\n",
      "Name: url, dtype: object\n",
      "184    http://www.mguhlin.org/2010/10/wallwisher-repl...\n",
      "Name: url, dtype: object\n",
      "185    http://deturl.com/youtube.com/watch?v=lFZ0z5Fm-Ng\n",
      "Name: url, dtype: object\n",
      "186    http://docs.elgg.org/wiki/Sites_powered_by_Elgg\n",
      "Name: url, dtype: object\n",
      "187    http://mobile-libraries.blogspot.com/2010/09/p...\n",
      "Name: url, dtype: object\n",
      "188    http://www.slideshare.net/janehart/top100-tool...\n",
      "Name: url, dtype: object\n",
      "189    http://livebinders.com/play/play_or_edit?id=37141\n",
      "Name: url, dtype: object\n",
      "190    http://www.wired.com/wiredscience/2010/10/wils...\n",
      "Name: url, dtype: object\n",
      "191    http://news-basics.com/\n",
      "Name: url, dtype: object\n"
     ]
    }
   ],
   "source": [
    "for r in source:\n",
    "    print(bookmark_dict[r])"
   ]
  },
  {
   "cell_type": "markdown",
   "metadata": {},
   "source": [
    "## Our reccomendations:"
   ]
  },
  {
   "cell_type": "code",
   "execution_count": 157,
   "metadata": {},
   "outputs": [
    {
     "name": "stdout",
     "output_type": "stream",
     "text": [
      "192    http://cssgrid.net/\n",
      "Name: url, dtype: object\n",
      "232    http://infosthetics.com/\n",
      "Name: url, dtype: object\n",
      "219    http://www.shopify.com/\n",
      "Name: url, dtype: object\n",
      "221    http://www.webalys.com/design-interface-applic...\n",
      "Name: url, dtype: object\n",
      "223    http://www.uxbooth.com/\n",
      "Name: url, dtype: object\n",
      "206    http://slides.html5rocks.com/#slide1\n",
      "Name: url, dtype: object\n",
      "217    http://www.noupe.com/design/an-explosion-of-ad...\n",
      "Name: url, dtype: object\n",
      "193    http://designmoo.com/\n",
      "Name: url, dtype: object\n",
      "205    http://www.uxmag.com/\n",
      "Name: url, dtype: object\n",
      "229    http://moritz.stefaner.eu/\n",
      "Name: url, dtype: object\n"
     ]
    }
   ],
   "source": [
    "for r in recommendations:\n",
    "    print(bookmark_dict[r[0]])"
   ]
  }
 ],
 "metadata": {
  "kernelspec": {
   "display_name": "Python 3",
   "language": "python",
   "name": "python3"
  },
  "language_info": {
   "codemirror_mode": {
    "name": "ipython",
    "version": 3
   },
   "file_extension": ".py",
   "mimetype": "text/x-python",
   "name": "python",
   "nbconvert_exporter": "python",
   "pygments_lexer": "ipython3",
   "version": "3.7.0"
  }
 },
 "nbformat": 4,
 "nbformat_minor": 2
}
